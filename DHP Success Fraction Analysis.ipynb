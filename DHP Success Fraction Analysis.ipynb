{
 "cells": [
  {
   "cell_type": "markdown",
   "metadata": {},
   "source": [
    "# Background\n",
    "\n",
    "Each bout of DHP photos consists of 12 exopsures, of which 8 must be good in order for the sample to meet the data quality criteria.  We want to know: what is the probability P_s that the set is good given the probability P_i that any given photo is good?\n",
    "\n",
    "# Method\n",
    " \n",
    "We address this through the use of simulations: for a given value of P_i, we generate a set of N realizations of a set of 12 images and count how many of these have at least 8 good images."
   ]
  },
  {
   "cell_type": "code",
   "execution_count": 1,
   "metadata": {
    "collapsed": false
   },
   "outputs": [],
   "source": [
    "import numpy as np\n",
    "from numpy.random import binomial\n",
    "\n",
    "# Routine to do one realization...\n",
    "def bout (n, n_good_min, p):\n",
    "    '''\n",
    "    Generate a set of n events in which each event has a probability\n",
    "    p of being \"good\".  If at least n_good_min events are \"good\", \n",
    "    then the set is \"good\".  Return True if the set is good, else False.\n",
    "    '''\n",
    "    \n",
    "    n_good = binomial(n, p)\n",
    "    if n_good >= n_good_min:\n",
    "        state = True\n",
    "    else:\n",
    "        state = False\n",
    "    return state"
   ]
  },
  {
   "cell_type": "code",
   "execution_count": 2,
   "metadata": {
    "collapsed": true
   },
   "outputs": [],
   "source": [
    "def success_fraction(p,n_samples):\n",
    "    '''\n",
    "    Given a success fraction of P and a number of samples n_samp,\n",
    "    return the fraction of the samples which is good.\n",
    "    '''\n",
    "    \n",
    "    # initialize counter...\n",
    "    count = 0\n",
    "    n=12\n",
    "    n_good_min=8\n",
    "    \n",
    "    for i in range(0,n_samples):\n",
    "        if bout( n, n_good_min, p):\n",
    "            count += 1\n",
    "          \n",
    "    goodfrac = float(count)/float(n_samples)\n",
    "    return goodfrac"
   ]
  },
  {
   "cell_type": "markdown",
   "metadata": {},
   "source": [
    "# Test case\n",
    "\n",
    "Given that the probability of each photo being good is 0.7, what is the likelihood that the bout is good?"
   ]
  },
  {
   "cell_type": "code",
   "execution_count": 4,
   "metadata": {
    "collapsed": false
   },
   "outputs": [
    {
     "data": {
      "text/plain": [
       "0.693"
      ]
     },
     "execution_count": 4,
     "metadata": {},
     "output_type": "execute_result"
    }
   ],
   "source": [
    "p = 0.7\n",
    "n_samples = 1000\n",
    "\n",
    "success_fraction( p, n_samples)"
   ]
  },
  {
   "cell_type": "markdown",
   "metadata": {},
   "source": [
    "# Generate the curve for a range of probabilities"
   ]
  },
  {
   "cell_type": "code",
   "execution_count": 5,
   "metadata": {
    "collapsed": false
   },
   "outputs": [
    {
     "name": "stdout",
     "output_type": "stream",
     "text": [
      "x= [ 0  1  2  3  4  5  6  7  8  9 10 11 12 13 14 15 16 17 18 19]\n",
      "probs= [ 0.15910358  0.29289322  0.40539644  0.5         0.57955179  0.64644661\n",
      "  0.70269822  0.75        0.7897759   0.8232233   0.85134911  0.875\n",
      "  0.89488795  0.91161165  0.92567456  0.9375      0.94744397  0.95580583\n",
      "  0.96283728  0.96875   ]\n",
      "p=0.15910 f=0.00100\n",
      "p=0.29289 f=0.00600\n",
      "p=0.40540 f=0.06500\n",
      "p=0.50000 f=0.21000\n",
      "p=0.57955 f=0.39700\n",
      "p=0.64645 f=0.57400\n",
      "p=0.70270 f=0.72300\n",
      "p=0.75000 f=0.84200\n",
      "p=0.78978 f=0.92900\n",
      "p=0.82322 f=0.95200\n",
      "p=0.85135 f=0.97100\n",
      "p=0.87500 f=0.98400\n",
      "p=0.89489 f=0.99200\n",
      "p=0.91161 f=0.99700\n",
      "p=0.92567 f=1.00000\n",
      "p=0.93750 f=0.99900\n",
      "p=0.94744 f=0.99900\n",
      "p=0.95581 f=1.00000\n",
      "p=0.96284 f=1.00000\n",
      "p=0.96875 f=1.00000\n"
     ]
    }
   ],
   "source": [
    "n_trials = 20\n",
    "x = np.array(range(0,n_trials))\n",
    "frac = np.empty(n_trials)\n",
    "probs = 1. - 0.5**(0.25*(x+1))\n",
    "print \"x=\", x\n",
    "print \"probs=\", probs\n",
    "\n",
    "for i in x:\n",
    "    p = probs[i]\n",
    "    frac[i] = success_fraction( p, n_samples)\n",
    "    print \"p=%.5f f=%.5f\" % (p, frac[i])\n"
   ]
  },
  {
   "cell_type": "markdown",
   "metadata": {},
   "source": [
    "# Find the point at which the success probability is 99%"
   ]
  },
  {
   "cell_type": "code",
   "execution_count": 9,
   "metadata": {
    "collapsed": false
   },
   "outputs": [
    {
     "name": "stdout",
     "output_type": "stream",
     "text": [
      "0.990000 probability for bout requires 0.889916 probability for photos\n"
     ]
    }
   ],
   "source": [
    "from scipy import interpolate\n",
    "f = interpolate.interp1d(frac, probs)\n",
    "xnew = 0.99\n",
    "ynew = f(xnew)   # use interpolation function returned by `interp1d`\n"
   ]
  },
  {
   "cell_type": "code",
   "execution_count": 10,
   "metadata": {
    "collapsed": true
   },
   "outputs": [],
   "source": [
    "%matplotlib inline"
   ]
  },
  {
   "cell_type": "code",
   "execution_count": 11,
   "metadata": {
    "collapsed": true
   },
   "outputs": [],
   "source": [
    "import matplotlib.pyplot as plt"
   ]
  },
  {
   "cell_type": "code",
   "execution_count": 19,
   "metadata": {
    "collapsed": false
   },
   "outputs": [
    {
     "data": {
      "image/png": "[encoded data removed]",
      "text/plain": [
       "<matplotlib.figure.Figure at 0x106fe8e90>"
      ]
     },
     "metadata": {},
     "output_type": "display_data"
    }
   ],
   "source": [
    "line, = plt.plot(probs, frac, 'b-', linewidth=2)\n",
    "\n",
    "x0 = min(probs)\n",
    "y0 = min(frac)\n",
    "xcut = np.array([x0,ynew,ynew])\n",
    "ycut = np.array([xnew,xnew,y0])\n",
    "plt.plot(xcut, ycut, 'g-')\n",
    "plt.plot(ynew, xnew, 'ro')\n",
    "\n",
    "plt.xlabel('Probability that each photo is good')\n",
    "plt.ylabel('Probability that bout is good')\n",
    "plt.title(\"%.1f%% succes for bout requires %.1f%% success for photos\" % (xnew*100., ynew*100.))\n",
    "plt.show()"
   ]
  }
 ],
 "metadata": {
  "kernelspec": {
   "display_name": "Python 2",
   "language": "python",
   "name": "python2"
  }
 },
 "nbformat": 4,
 "nbformat_minor": 0
}
